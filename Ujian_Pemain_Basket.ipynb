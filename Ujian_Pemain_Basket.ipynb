{
 "nbformat": 4,
 "nbformat_minor": 2,
 "metadata": {
  "language_info": {
   "name": "python",
   "codemirror_mode": {
    "name": "ipython",
    "version": 3
   },
   "version": "3.7.4-final"
  },
  "orig_nbformat": 2,
  "file_extension": ".py",
  "mimetype": "text/x-python",
  "name": "python",
  "npconvert_exporter": "python",
  "pygments_lexer": "ipython3",
  "version": 3,
  "kernelspec": {
   "name": "python37464bitbaseconda4c82c86dff3e401389916d359eb045bd",
   "display_name": "Python 3.7.4 64-bit ('base': conda)"
  }
 },
 "cells": [
  {
   "cell_type": "markdown",
   "execution_count": null,
   "metadata": {},
   "outputs": [],
   "source": [
    "Soal Ujian Data Science - Machine Learning\n",
    "Lintang_Purwadhika\n",
    "\n",
    "Soal 1 - Hunting Pemain Basket 🏀\n",
    "\n",
    "\n",
    "Anda adalah seorang manager klub basket ternama yang ingin merekrut pemain basket muda berbakat. Pemain yang Anda targetkan untuk direkrut memiliki kriteria sebagai berikut:\n",
    "\n",
    "- Usia (Age) <= 25 tahun,\n",
    "- Tinggi badan (Height) >= 180 cm,\n",
    "- Berat badan (Weight) <= 90 kg,\n",
    "- Rata-rata point (Average points scored) >= 6, dan\n",
    "- Rata-rata rebound (Average rebounds grabbed) >= 3.\n",
    "\n",
    "Tersedia 1 buah dataset (.csv) yang memuat data lengkap pemain basket liga profesional NBA (National Basketball Association). Unduh dataset via Kaggle: klik di sini. Dengan memanfaatkan dataset tersebut, buatlah sebuah file Jupyter notebook (.ipynb) yang berisi model machine learning untuk mengklasifikasikan data pemain muda Indonesia di bawah ini apakah tergolong pemain yang patut Anda rekrut atau tidak:\n",
    "\n",
    "Name\tClub\tCountry\tAge\tHeight\tWeight\tAvg Points\tAvg Rebounds\n",
    "Andakara Prastawa Dyaksa\tPelita Jaya Bakrie\tlintang Indonesia\t24\t190\t90\t7\t6\n",
    "Reggie Mononimbar\tPelita Jaya Bakrie\tlintang Indonesia\t21\t185\t86\t6\t3\n",
    "Hardianus Lakudu\tSatria Muda Pertamina Jakarta\tlintang Indonesia\t23\t178\t83\t10\t3\n",
    "Kevin Yonas Sitorus\tSatria Muda Pertamina Jakarta\tlintang Indonesia\t26\t185\t75\t11\t4\n",
    "Arki Dikania Wisnu\tSatria Muda Pertamina Jakarta\tlintang Indonesia\t20\t183\t80\t5\t2\n",
    "Laurentius Steven Oei\tSatria Muda Pertamina Jakarta\tlintang Indonesia\t21\t191\t85\t4\t10\n",
    "Mei Joni\tStapac\tlintang Indonesia\t25\t188\t90\t7\t5\n",
    "Vincent Rivaldi Kosasih\tStapac\tlintang Indonesia\t23\t179\t87\t1\t2\n",
    "Hardian Wicaksono\tPacific Caesar Surabaya\tlintang Indonesia\t21\t177\t80\t9\t8\n",
    "Brandon Jawato\tLouvre Surabaya\tlintang Indonesia\t24\t182\t85\t6\t5\n",
    "Requirements:\n",
    "\n",
    "Buatlah sebuah file Jupyter Notebook (.ipynb).\n",
    "Download & gunakan dataset NBA players. Bersihkan data, lakukan standardisasi & split menjadi 82% untuk training set & 18% untuk testing set.\n",
    "Buatlah 3 model machine learning untuk klasifikasi (pilihan model bebas), lakukan hyperparameter tuning untuk menentukan nilai parameter terbaik tiap model.\n",
    "Gunakan parameter terbaik model untuk melakukan prediksi pada testing set. Kemudian hitung evaluation metrics tiap model. Metrics yang wajib dihitung yakni: balanced accuracy, precision, recall, F1 score & ROC AUC score.\n",
    "Bandingkan nilai tiap model & gunakan model terbaik yang diperoleh, untuk mengklasifikasi data pada tabel pemain muda Indonesia di atas, manakah pemain yang patut direkrut atau tidak. Tampilkan hasilnya dalam sebuah dataframe.\n",
    "✅ Commit & push source code jawaban soal ini ke Github Anda, buatlah repo dengan nama Ujian_Pemain_Basket. Kemudian lampirkan url link repo Github Anda via email ke lintang@purwadhika.com!\n",
    "\n"
   ]
  },
  {
   "cell_type": "code",
   "execution_count": 61,
   "metadata": {},
   "outputs": [],
   "source": [
    "import numpy as np\n",
    "import pandas as pd"
   ]
  },
  {
   "cell_type": "code",
   "execution_count": 62,
   "metadata": {},
   "outputs": [
    {
     "data": {
      "text/html": "<div>\n<style scoped>\n    .dataframe tbody tr th:only-of-type {\n        vertical-align: middle;\n    }\n\n    .dataframe tbody tr th {\n        vertical-align: top;\n    }\n\n    .dataframe thead th {\n        text-align: right;\n    }\n</style>\n<table border=\"1\" class=\"dataframe\">\n  <thead>\n    <tr style=\"text-align: right;\">\n      <th></th>\n      <th>Unnamed: 0</th>\n      <th>player_name</th>\n      <th>team_abbreviation</th>\n      <th>age</th>\n      <th>player_height</th>\n      <th>player_weight</th>\n      <th>college</th>\n      <th>country</th>\n      <th>draft_year</th>\n      <th>draft_round</th>\n      <th>...</th>\n      <th>pts</th>\n      <th>reb</th>\n      <th>ast</th>\n      <th>net_rating</th>\n      <th>oreb_pct</th>\n      <th>dreb_pct</th>\n      <th>usg_pct</th>\n      <th>ts_pct</th>\n      <th>ast_pct</th>\n      <th>season</th>\n    </tr>\n  </thead>\n  <tbody>\n    <tr>\n      <th>0</th>\n      <td>0</td>\n      <td>Chris Robinson</td>\n      <td>VAN</td>\n      <td>23.0</td>\n      <td>195.58</td>\n      <td>90.71840</td>\n      <td>Western Kentucky</td>\n      <td>USA</td>\n      <td>1996</td>\n      <td>2</td>\n      <td>...</td>\n      <td>4.6</td>\n      <td>1.7</td>\n      <td>1.6</td>\n      <td>-11.4</td>\n      <td>0.039</td>\n      <td>0.088</td>\n      <td>0.155</td>\n      <td>0.486</td>\n      <td>0.156</td>\n      <td>1996-97</td>\n    </tr>\n    <tr>\n      <th>1</th>\n      <td>1</td>\n      <td>Matt Fish</td>\n      <td>MIA</td>\n      <td>27.0</td>\n      <td>210.82</td>\n      <td>106.59412</td>\n      <td>North Carolina-Wilmington</td>\n      <td>USA</td>\n      <td>1992</td>\n      <td>2</td>\n      <td>...</td>\n      <td>0.3</td>\n      <td>0.8</td>\n      <td>0.0</td>\n      <td>-15.1</td>\n      <td>0.143</td>\n      <td>0.267</td>\n      <td>0.265</td>\n      <td>0.333</td>\n      <td>0.000</td>\n      <td>1996-97</td>\n    </tr>\n    <tr>\n      <th>2</th>\n      <td>2</td>\n      <td>Matt Bullard</td>\n      <td>HOU</td>\n      <td>30.0</td>\n      <td>208.28</td>\n      <td>106.59412</td>\n      <td>Iowa</td>\n      <td>USA</td>\n      <td>Undrafted</td>\n      <td>Undrafted</td>\n      <td>...</td>\n      <td>4.5</td>\n      <td>1.6</td>\n      <td>0.9</td>\n      <td>0.9</td>\n      <td>0.016</td>\n      <td>0.115</td>\n      <td>0.151</td>\n      <td>0.535</td>\n      <td>0.099</td>\n      <td>1996-97</td>\n    </tr>\n    <tr>\n      <th>3</th>\n      <td>3</td>\n      <td>Marty Conlon</td>\n      <td>BOS</td>\n      <td>29.0</td>\n      <td>210.82</td>\n      <td>111.13004</td>\n      <td>Providence</td>\n      <td>USA</td>\n      <td>Undrafted</td>\n      <td>Undrafted</td>\n      <td>...</td>\n      <td>7.8</td>\n      <td>4.4</td>\n      <td>1.4</td>\n      <td>-9.0</td>\n      <td>0.083</td>\n      <td>0.152</td>\n      <td>0.167</td>\n      <td>0.542</td>\n      <td>0.101</td>\n      <td>1996-97</td>\n    </tr>\n    <tr>\n      <th>4</th>\n      <td>4</td>\n      <td>Martin Muursepp</td>\n      <td>DAL</td>\n      <td>22.0</td>\n      <td>205.74</td>\n      <td>106.59412</td>\n      <td>None</td>\n      <td>USA</td>\n      <td>1996</td>\n      <td>1</td>\n      <td>...</td>\n      <td>3.7</td>\n      <td>1.6</td>\n      <td>0.5</td>\n      <td>-14.5</td>\n      <td>0.109</td>\n      <td>0.118</td>\n      <td>0.233</td>\n      <td>0.482</td>\n      <td>0.114</td>\n      <td>1996-97</td>\n    </tr>\n  </tbody>\n</table>\n<p>5 rows × 22 columns</p>\n</div>",
      "text/plain": "   Unnamed: 0      player_name team_abbreviation   age  player_height  \\\n0           0   Chris Robinson               VAN  23.0         195.58   \n1           1        Matt Fish               MIA  27.0         210.82   \n2           2     Matt Bullard               HOU  30.0         208.28   \n3           3     Marty Conlon               BOS  29.0         210.82   \n4           4  Martin Muursepp               DAL  22.0         205.74   \n\n   player_weight                    college country draft_year draft_round  \\\n0       90.71840           Western Kentucky     USA       1996           2   \n1      106.59412  North Carolina-Wilmington     USA       1992           2   \n2      106.59412                       Iowa     USA  Undrafted   Undrafted   \n3      111.13004                 Providence     USA  Undrafted   Undrafted   \n4      106.59412                       None     USA       1996           1   \n\n   ...  pts  reb  ast  net_rating  oreb_pct  dreb_pct  usg_pct  ts_pct  \\\n0  ...  4.6  1.7  1.6       -11.4     0.039     0.088    0.155   0.486   \n1  ...  0.3  0.8  0.0       -15.1     0.143     0.267    0.265   0.333   \n2  ...  4.5  1.6  0.9         0.9     0.016     0.115    0.151   0.535   \n3  ...  7.8  4.4  1.4        -9.0     0.083     0.152    0.167   0.542   \n4  ...  3.7  1.6  0.5       -14.5     0.109     0.118    0.233   0.482   \n\n   ast_pct   season  \n0    0.156  1996-97  \n1    0.000  1996-97  \n2    0.099  1996-97  \n3    0.101  1996-97  \n4    0.114  1996-97  \n\n[5 rows x 22 columns]"
     },
     "execution_count": 62,
     "metadata": {},
     "output_type": "execute_result"
    }
   ],
   "source": [
    "dfBasket = pd.read_csv('all_seasons.csv')\n",
    "dfBasket.head()"
   ]
  },
  {
   "cell_type": "code",
   "execution_count": 63,
   "metadata": {},
   "outputs": [
    {
     "name": "stdout",
     "output_type": "stream",
     "text": "<class 'pandas.core.frame.DataFrame'>\nRangeIndex: 9561 entries, 0 to 9560\nData columns (total 22 columns):\nUnnamed: 0           9561 non-null int64\nplayer_name          9561 non-null object\nteam_abbreviation    9561 non-null object\nage                  9561 non-null float64\nplayer_height        9561 non-null float64\nplayer_weight        9561 non-null float64\ncollege              9561 non-null object\ncountry              9561 non-null object\ndraft_year           9561 non-null object\ndraft_round          9561 non-null object\ndraft_number         9561 non-null object\ngp                   9561 non-null int64\npts                  9561 non-null float64\nreb                  9561 non-null float64\nast                  9561 non-null float64\nnet_rating           9561 non-null float64\noreb_pct             9561 non-null float64\ndreb_pct             9561 non-null float64\nusg_pct              9561 non-null float64\nts_pct               9561 non-null float64\nast_pct              9561 non-null float64\nseason               9561 non-null object\ndtypes: float64(12), int64(2), object(8)\nmemory usage: 1.6+ MB\n"
    }
   ],
   "source": [
    "dfBasket.info()"
   ]
  },
  {
   "cell_type": "code",
   "execution_count": 64,
   "metadata": {},
   "outputs": [
    {
     "data": {
      "text/html": "<div>\n<style scoped>\n    .dataframe tbody tr th:only-of-type {\n        vertical-align: middle;\n    }\n\n    .dataframe tbody tr th {\n        vertical-align: top;\n    }\n\n    .dataframe thead th {\n        text-align: right;\n    }\n</style>\n<table border=\"1\" class=\"dataframe\">\n  <thead>\n    <tr style=\"text-align: right;\">\n      <th></th>\n      <th>player_name</th>\n      <th>team_abbreviation</th>\n      <th>country</th>\n      <th>age</th>\n      <th>player_height</th>\n      <th>player_weight</th>\n      <th>pts</th>\n      <th>reb</th>\n    </tr>\n  </thead>\n  <tbody>\n    <tr>\n      <th>0</th>\n      <td>Chris Robinson</td>\n      <td>VAN</td>\n      <td>USA</td>\n      <td>23.0</td>\n      <td>195.58</td>\n      <td>90.71840</td>\n      <td>4.6</td>\n      <td>1.7</td>\n    </tr>\n    <tr>\n      <th>1</th>\n      <td>Matt Fish</td>\n      <td>MIA</td>\n      <td>USA</td>\n      <td>27.0</td>\n      <td>210.82</td>\n      <td>106.59412</td>\n      <td>0.3</td>\n      <td>0.8</td>\n    </tr>\n    <tr>\n      <th>2</th>\n      <td>Matt Bullard</td>\n      <td>HOU</td>\n      <td>USA</td>\n      <td>30.0</td>\n      <td>208.28</td>\n      <td>106.59412</td>\n      <td>4.5</td>\n      <td>1.6</td>\n    </tr>\n    <tr>\n      <th>3</th>\n      <td>Marty Conlon</td>\n      <td>BOS</td>\n      <td>USA</td>\n      <td>29.0</td>\n      <td>210.82</td>\n      <td>111.13004</td>\n      <td>7.8</td>\n      <td>4.4</td>\n    </tr>\n    <tr>\n      <th>4</th>\n      <td>Martin Muursepp</td>\n      <td>DAL</td>\n      <td>USA</td>\n      <td>22.0</td>\n      <td>205.74</td>\n      <td>106.59412</td>\n      <td>3.7</td>\n      <td>1.6</td>\n    </tr>\n  </tbody>\n</table>\n</div>",
      "text/plain": "       player_name team_abbreviation country   age  player_height  \\\n0   Chris Robinson               VAN     USA  23.0         195.58   \n1        Matt Fish               MIA     USA  27.0         210.82   \n2     Matt Bullard               HOU     USA  30.0         208.28   \n3     Marty Conlon               BOS     USA  29.0         210.82   \n4  Martin Muursepp               DAL     USA  22.0         205.74   \n\n   player_weight  pts  reb  \n0       90.71840  4.6  1.7  \n1      106.59412  0.3  0.8  \n2      106.59412  4.5  1.6  \n3      111.13004  7.8  4.4  \n4      106.59412  3.7  1.6  "
     },
     "execution_count": 64,
     "metadata": {},
     "output_type": "execute_result"
    }
   ],
   "source": [
    "dfBasket = dfBasket[['player_name', 'team_abbreviation', 'country', 'age', 'player_height', 'player_weight', 'pts', 'reb']]\n",
    "\n",
    "dfBasket.head()"
   ]
  },
  {
   "cell_type": "code",
   "execution_count": 80,
   "metadata": {},
   "outputs": [
    {
     "data": {
      "text/html": "<div>\n<style scoped>\n    .dataframe tbody tr th:only-of-type {\n        vertical-align: middle;\n    }\n\n    .dataframe tbody tr th {\n        vertical-align: top;\n    }\n\n    .dataframe thead th {\n        text-align: right;\n    }\n</style>\n<table border=\"1\" class=\"dataframe\">\n  <thead>\n    <tr style=\"text-align: right;\">\n      <th></th>\n      <th>Name</th>\n      <th>Club</th>\n      <th>Country</th>\n      <th>Age</th>\n      <th>Height</th>\n      <th>Weight</th>\n      <th>Avg_Points</th>\n      <th>Avg_Rebounds</th>\n    </tr>\n  </thead>\n  <tbody>\n    <tr>\n      <th>0</th>\n      <td>Andakara Prastawa Dyaksa</td>\n      <td>Pelita Jaya Bakrie</td>\n      <td>Indonesia</td>\n      <td>24</td>\n      <td>190</td>\n      <td>90</td>\n      <td>7</td>\n      <td>6</td>\n    </tr>\n    <tr>\n      <th>1</th>\n      <td>Reggie Mononimbar</td>\n      <td>Pelita Jaya Bakrie</td>\n      <td>Indonesia</td>\n      <td>21</td>\n      <td>185</td>\n      <td>86</td>\n      <td>6</td>\n      <td>3</td>\n    </tr>\n    <tr>\n      <th>2</th>\n      <td>Hardianus Lakudu</td>\n      <td>Satria Muda Pertamina Jakarta</td>\n      <td>Indonesia</td>\n      <td>23</td>\n      <td>178</td>\n      <td>83</td>\n      <td>10</td>\n      <td>3</td>\n    </tr>\n    <tr>\n      <th>3</th>\n      <td>Kevin Yonas Sitorus</td>\n      <td>Satria Muda Pertamina Jakarta</td>\n      <td>Indonesia</td>\n      <td>26</td>\n      <td>185</td>\n      <td>75</td>\n      <td>11</td>\n      <td>4</td>\n    </tr>\n    <tr>\n      <th>4</th>\n      <td>Arki Dikania Wisnu</td>\n      <td>Satria Muda Pertamina Jakarta</td>\n      <td>Indonesia</td>\n      <td>20</td>\n      <td>183</td>\n      <td>80</td>\n      <td>5</td>\n      <td>2</td>\n    </tr>\n    <tr>\n      <th>5</th>\n      <td>Laurentius Steven Oei</td>\n      <td>Satria Muda Pertamina Jakarta</td>\n      <td>Indonesia</td>\n      <td>21</td>\n      <td>191</td>\n      <td>85</td>\n      <td>4</td>\n      <td>10</td>\n    </tr>\n    <tr>\n      <th>6</th>\n      <td>Mei Joni</td>\n      <td>Stapac</td>\n      <td>Indonesia</td>\n      <td>25</td>\n      <td>188</td>\n      <td>90</td>\n      <td>7</td>\n      <td>5</td>\n    </tr>\n    <tr>\n      <th>7</th>\n      <td>Vincent Rivaldi Kosasih</td>\n      <td>Stapac</td>\n      <td>Indonesia</td>\n      <td>23</td>\n      <td>179</td>\n      <td>87</td>\n      <td>1</td>\n      <td>2</td>\n    </tr>\n    <tr>\n      <th>8</th>\n      <td>Hardian Wicaksono</td>\n      <td>Pacific Caesar Surabaya</td>\n      <td>Indonesia</td>\n      <td>21</td>\n      <td>177</td>\n      <td>80</td>\n      <td>9</td>\n      <td>8</td>\n    </tr>\n    <tr>\n      <th>9</th>\n      <td>Brandon Jawato</td>\n      <td>Louvre Surabaya</td>\n      <td>Indonesia</td>\n      <td>24</td>\n      <td>182</td>\n      <td>85</td>\n      <td>6</td>\n      <td>5</td>\n    </tr>\n  </tbody>\n</table>\n</div>",
      "text/plain": "                       Name                           Club    Country Age  \\\n0  Andakara Prastawa Dyaksa             Pelita Jaya Bakrie  Indonesia  24   \n1         Reggie Mononimbar             Pelita Jaya Bakrie  Indonesia  21   \n2          Hardianus Lakudu  Satria Muda Pertamina Jakarta  Indonesia  23   \n3       Kevin Yonas Sitorus  Satria Muda Pertamina Jakarta  Indonesia  26   \n4        Arki Dikania Wisnu  Satria Muda Pertamina Jakarta  Indonesia  20   \n5     Laurentius Steven Oei  Satria Muda Pertamina Jakarta  Indonesia  21   \n6                  Mei Joni                         Stapac  Indonesia  25   \n7   Vincent Rivaldi Kosasih                         Stapac  Indonesia  23   \n8         Hardian Wicaksono        Pacific Caesar Surabaya  Indonesia  21   \n9            Brandon Jawato                Louvre Surabaya  Indonesia  24   \n\n  Height Weight Avg_Points Avg_Rebounds  \n0    190     90          7            6  \n1    185     86          6            3  \n2    178     83         10            3  \n3    185     75         11            4  \n4    183     80          5            2  \n5    191     85          4           10  \n6    188     90          7            5  \n7    179     87          1            2  \n8    177     80          9            8  \n9    182     85          6            5  "
     },
     "execution_count": 80,
     "metadata": {},
     "output_type": "execute_result"
    }
   ],
   "source": [
    "dfSoal = pd.DataFrame(\n",
    "    np.array([\n",
    "        ['Andakara Prastawa Dyaksa', 'Pelita Jaya Bakrie', 'Indonesia', 24, 190, 90, 7, 6],\n",
    "        ['Reggie Mononimbar', 'Pelita Jaya Bakrie', 'Indonesia', 21, 185, 86, 6, 3],\n",
    "        ['Hardianus Lakudu', 'Satria Muda Pertamina Jakarta', 'Indonesia', 23, 178, 83, 10, 3],\n",
    "        ['Kevin Yonas Sitorus', 'Satria Muda Pertamina Jakarta', 'Indonesia', 26, 185, 75, 11, 4],\n",
    "        ['Arki Dikania Wisnu', 'Satria Muda Pertamina Jakarta', 'Indonesia', 20, 183, 80, 5, 2],\n",
    "        ['Laurentius Steven Oei', 'Satria Muda Pertamina Jakarta', 'Indonesia', 21, 191, 85, 4, 10],\n",
    "        ['Mei Joni', 'Stapac', 'Indonesia', 25, 188, 90, 7, 5],\n",
    "        ['Vincent Rivaldi Kosasih', 'Stapac', 'Indonesia', 23, 179, 87, 1, 2],\n",
    "        ['Hardian Wicaksono', 'Pacific Caesar Surabaya', 'Indonesia', 21, 177, 80, 9, 8],\n",
    "        ['Brandon Jawato', 'Louvre Surabaya', 'Indonesia', 24, 182, 85, 6, 5]\n",
    "    ]), columns = ['Name', 'Club', 'Country', 'Age', 'Height', 'Weight', 'Avg_Points', 'Avg_Rebounds'])\n",
    "\n",
    "dfSoal"
   ]
  },
  {
   "cell_type": "code",
   "execution_count": 171,
   "metadata": {},
   "outputs": [
    {
     "name": "stderr",
     "output_type": "stream",
     "text": "C:\\Users\\rdyhr\\AppData\\Roaming\\Python\\Python37\\site-packages\\ipykernel_launcher.py:1: UserWarning: Boolean Series key will be reindexed to match DataFrame index.\n  \"\"\"Entry point for launching an IPython kernel.\n"
    },
    {
     "data": {
      "text/html": "<div>\n<style scoped>\n    .dataframe tbody tr th:only-of-type {\n        vertical-align: middle;\n    }\n\n    .dataframe tbody tr th {\n        vertical-align: top;\n    }\n\n    .dataframe thead th {\n        text-align: right;\n    }\n</style>\n<table border=\"1\" class=\"dataframe\">\n  <thead>\n    <tr style=\"text-align: right;\">\n      <th></th>\n      <th>player_name</th>\n      <th>team_abbreviation</th>\n      <th>country</th>\n      <th>age</th>\n      <th>player_height</th>\n      <th>player_weight</th>\n      <th>pts</th>\n      <th>reb</th>\n      <th>Label</th>\n    </tr>\n  </thead>\n  <tbody>\n    <tr>\n      <th>105</th>\n      <td>Kerry Kittles</td>\n      <td>NJN</td>\n      <td>USA</td>\n      <td>23.0</td>\n      <td>195.58</td>\n      <td>81.192968</td>\n      <td>16.4</td>\n      <td>3.9</td>\n      <td>1</td>\n    </tr>\n    <tr>\n      <th>290</th>\n      <td>Allen Iverson</td>\n      <td>PHI</td>\n      <td>USA</td>\n      <td>22.0</td>\n      <td>182.88</td>\n      <td>74.842680</td>\n      <td>23.5</td>\n      <td>4.1</td>\n      <td>1</td>\n    </tr>\n    <tr>\n      <th>432</th>\n      <td>Eddie Jones</td>\n      <td>LAL</td>\n      <td>USA</td>\n      <td>25.0</td>\n      <td>198.12</td>\n      <td>86.182480</td>\n      <td>17.2</td>\n      <td>4.1</td>\n      <td>1</td>\n    </tr>\n    <tr>\n      <th>659</th>\n      <td>Kerry Kittles</td>\n      <td>NJN</td>\n      <td>USA</td>\n      <td>24.0</td>\n      <td>195.58</td>\n      <td>81.192968</td>\n      <td>17.2</td>\n      <td>4.7</td>\n      <td>1</td>\n    </tr>\n    <tr>\n      <th>835</th>\n      <td>Allen Iverson</td>\n      <td>PHI</td>\n      <td>USA</td>\n      <td>23.0</td>\n      <td>182.88</td>\n      <td>74.842680</td>\n      <td>22.0</td>\n      <td>3.7</td>\n      <td>1</td>\n    </tr>\n  </tbody>\n</table>\n</div>",
      "text/plain": "       player_name team_abbreviation country   age  player_height  \\\n105  Kerry Kittles               NJN     USA  23.0         195.58   \n290  Allen Iverson               PHI     USA  22.0         182.88   \n432    Eddie Jones               LAL     USA  25.0         198.12   \n659  Kerry Kittles               NJN     USA  24.0         195.58   \n835  Allen Iverson               PHI     USA  23.0         182.88   \n\n     player_weight   pts  reb  Label  \n105      81.192968  16.4  3.9      1  \n290      74.842680  23.5  4.1      1  \n432      86.182480  17.2  4.1      1  \n659      81.192968  17.2  4.7      1  \n835      74.842680  22.0  3.7      1  "
     },
     "execution_count": 171,
     "metadata": {},
     "output_type": "execute_result"
    }
   ],
   "source": [
    "dfTarget = dfBasket[dfBasket['age'] <= 25][dfBasket['player_height'] >= 180][dfBasket['player_weight'] <= 90][dfBasket['pts'] >= 6][dfBasket['reb'] >= 3]\n",
    "dfTarget['Label'] = 1\n",
    "\n",
    "dfTarget.head()"
   ]
  },
  {
   "cell_type": "code",
   "execution_count": 172,
   "metadata": {},
   "outputs": [
    {
     "data": {
      "text/html": "<div>\n<style scoped>\n    .dataframe tbody tr th:only-of-type {\n        vertical-align: middle;\n    }\n\n    .dataframe tbody tr th {\n        vertical-align: top;\n    }\n\n    .dataframe thead th {\n        text-align: right;\n    }\n</style>\n<table border=\"1\" class=\"dataframe\">\n  <thead>\n    <tr style=\"text-align: right;\">\n      <th></th>\n      <th>player_name</th>\n      <th>team_abbreviation</th>\n      <th>country</th>\n      <th>age</th>\n      <th>player_height</th>\n      <th>player_weight</th>\n      <th>pts</th>\n      <th>reb</th>\n      <th>Label</th>\n    </tr>\n  </thead>\n  <tbody>\n    <tr>\n      <th>0</th>\n      <td>Chris Robinson</td>\n      <td>VAN</td>\n      <td>USA</td>\n      <td>23.0</td>\n      <td>195.58</td>\n      <td>90.71840</td>\n      <td>4.6</td>\n      <td>1.7</td>\n      <td>0</td>\n    </tr>\n    <tr>\n      <th>1</th>\n      <td>Matt Fish</td>\n      <td>MIA</td>\n      <td>USA</td>\n      <td>27.0</td>\n      <td>210.82</td>\n      <td>106.59412</td>\n      <td>0.3</td>\n      <td>0.8</td>\n      <td>0</td>\n    </tr>\n    <tr>\n      <th>2</th>\n      <td>Matt Bullard</td>\n      <td>HOU</td>\n      <td>USA</td>\n      <td>30.0</td>\n      <td>208.28</td>\n      <td>106.59412</td>\n      <td>4.5</td>\n      <td>1.6</td>\n      <td>0</td>\n    </tr>\n    <tr>\n      <th>3</th>\n      <td>Marty Conlon</td>\n      <td>BOS</td>\n      <td>USA</td>\n      <td>29.0</td>\n      <td>210.82</td>\n      <td>111.13004</td>\n      <td>7.8</td>\n      <td>4.4</td>\n      <td>0</td>\n    </tr>\n    <tr>\n      <th>4</th>\n      <td>Martin Muursepp</td>\n      <td>DAL</td>\n      <td>USA</td>\n      <td>22.0</td>\n      <td>205.74</td>\n      <td>106.59412</td>\n      <td>3.7</td>\n      <td>1.6</td>\n      <td>0</td>\n    </tr>\n  </tbody>\n</table>\n</div>",
      "text/plain": "       player_name team_abbreviation country   age  player_height  \\\n0   Chris Robinson               VAN     USA  23.0         195.58   \n1        Matt Fish               MIA     USA  27.0         210.82   \n2     Matt Bullard               HOU     USA  30.0         208.28   \n3     Marty Conlon               BOS     USA  29.0         210.82   \n4  Martin Muursepp               DAL     USA  22.0         205.74   \n\n   player_weight  pts  reb  Label  \n0       90.71840  4.6  1.7      0  \n1      106.59412  0.3  0.8      0  \n2      106.59412  4.5  1.6      0  \n3      111.13004  7.8  4.4      0  \n4      106.59412  3.7  1.6      0  "
     },
     "execution_count": 172,
     "metadata": {},
     "output_type": "execute_result"
    }
   ],
   "source": [
    "dfNon = dfBasket.drop(dfTarget.index)\n",
    "dfNon['Label'] = 0\n",
    "\n",
    "dfNon.head()"
   ]
  },
  {
   "cell_type": "code",
   "execution_count": 173,
   "metadata": {},
   "outputs": [
    {
     "data": {
      "text/html": "<div>\n<style scoped>\n    .dataframe tbody tr th:only-of-type {\n        vertical-align: middle;\n    }\n\n    .dataframe tbody tr th {\n        vertical-align: top;\n    }\n\n    .dataframe thead th {\n        text-align: right;\n    }\n</style>\n<table border=\"1\" class=\"dataframe\">\n  <thead>\n    <tr style=\"text-align: right;\">\n      <th></th>\n      <th>player_name</th>\n      <th>team_abbreviation</th>\n      <th>country</th>\n      <th>age</th>\n      <th>player_height</th>\n      <th>player_weight</th>\n      <th>pts</th>\n      <th>reb</th>\n      <th>Label</th>\n    </tr>\n  </thead>\n  <tbody>\n    <tr>\n      <th>0</th>\n      <td>Kerry Kittles</td>\n      <td>NJN</td>\n      <td>USA</td>\n      <td>23.0</td>\n      <td>195.58</td>\n      <td>81.192968</td>\n      <td>16.4</td>\n      <td>3.9</td>\n      <td>1</td>\n    </tr>\n    <tr>\n      <th>1</th>\n      <td>Allen Iverson</td>\n      <td>PHI</td>\n      <td>USA</td>\n      <td>22.0</td>\n      <td>182.88</td>\n      <td>74.842680</td>\n      <td>23.5</td>\n      <td>4.1</td>\n      <td>1</td>\n    </tr>\n    <tr>\n      <th>2</th>\n      <td>Eddie Jones</td>\n      <td>LAL</td>\n      <td>USA</td>\n      <td>25.0</td>\n      <td>198.12</td>\n      <td>86.182480</td>\n      <td>17.2</td>\n      <td>4.1</td>\n      <td>1</td>\n    </tr>\n    <tr>\n      <th>3</th>\n      <td>Kerry Kittles</td>\n      <td>NJN</td>\n      <td>USA</td>\n      <td>24.0</td>\n      <td>195.58</td>\n      <td>81.192968</td>\n      <td>17.2</td>\n      <td>4.7</td>\n      <td>1</td>\n    </tr>\n    <tr>\n      <th>4</th>\n      <td>Allen Iverson</td>\n      <td>PHI</td>\n      <td>USA</td>\n      <td>23.0</td>\n      <td>182.88</td>\n      <td>74.842680</td>\n      <td>22.0</td>\n      <td>3.7</td>\n      <td>1</td>\n    </tr>\n  </tbody>\n</table>\n</div>",
      "text/plain": "     player_name team_abbreviation country   age  player_height  \\\n0  Kerry Kittles               NJN     USA  23.0         195.58   \n1  Allen Iverson               PHI     USA  22.0         182.88   \n2    Eddie Jones               LAL     USA  25.0         198.12   \n3  Kerry Kittles               NJN     USA  24.0         195.58   \n4  Allen Iverson               PHI     USA  23.0         182.88   \n\n   player_weight   pts  reb  Label  \n0      81.192968  16.4  3.9      1  \n1      74.842680  23.5  4.1      1  \n2      86.182480  17.2  4.1      1  \n3      81.192968  17.2  4.7      1  \n4      74.842680  22.0  3.7      1  "
     },
     "execution_count": 173,
     "metadata": {},
     "output_type": "execute_result"
    }
   ],
   "source": [
    "dfComplete = dfTarget.append(dfNon, ignore_index = True)\n",
    "dfComplete.head()"
   ]
  },
  {
   "cell_type": "code",
   "execution_count": 174,
   "metadata": {},
   "outputs": [],
   "source": [
    "from sklearn.preprocessing import StandardScaler\n",
    "from sklearn.model_selection import train_test_split\n",
    "from sklearn.neighbors import KNeighborsClassifier\n",
    "from sklearn.tree import DecisionTreeClassifier\n",
    "from sklearn.linear_model import LogisticRegression\n",
    "from sklearn import metrics"
   ]
  },
  {
   "cell_type": "code",
   "execution_count": 175,
   "metadata": {},
   "outputs": [
    {
     "data": {
      "text/html": "<div>\n<style scoped>\n    .dataframe tbody tr th:only-of-type {\n        vertical-align: middle;\n    }\n\n    .dataframe tbody tr th {\n        vertical-align: top;\n    }\n\n    .dataframe thead th {\n        text-align: right;\n    }\n</style>\n<table border=\"1\" class=\"dataframe\">\n  <thead>\n    <tr style=\"text-align: right;\">\n      <th></th>\n      <th>age</th>\n      <th>player_height</th>\n      <th>player_weight</th>\n      <th>pts</th>\n      <th>reb</th>\n    </tr>\n  </thead>\n  <tbody>\n    <tr>\n      <th>0</th>\n      <td>-0.996742</td>\n      <td>-0.578993</td>\n      <td>-1.547931</td>\n      <td>1.414481</td>\n      <td>0.134256</td>\n    </tr>\n    <tr>\n      <th>1</th>\n      <td>-1.226609</td>\n      <td>-1.947428</td>\n      <td>-2.044815</td>\n      <td>2.620200</td>\n      <td>0.214448</td>\n    </tr>\n    <tr>\n      <th>2</th>\n      <td>-0.537007</td>\n      <td>-0.305306</td>\n      <td>-1.157521</td>\n      <td>1.550337</td>\n      <td>0.214448</td>\n    </tr>\n    <tr>\n      <th>3</th>\n      <td>-0.766874</td>\n      <td>-0.578993</td>\n      <td>-1.547931</td>\n      <td>1.550337</td>\n      <td>0.455022</td>\n    </tr>\n    <tr>\n      <th>4</th>\n      <td>-0.996742</td>\n      <td>-1.947428</td>\n      <td>-2.044815</td>\n      <td>2.365471</td>\n      <td>0.054065</td>\n    </tr>\n    <tr>\n      <th>...</th>\n      <td>...</td>\n      <td>...</td>\n      <td>...</td>\n      <td>...</td>\n      <td>...</td>\n    </tr>\n    <tr>\n      <th>9556</th>\n      <td>-1.456477</td>\n      <td>-0.578993</td>\n      <td>-0.802604</td>\n      <td>0.497455</td>\n      <td>-0.146414</td>\n    </tr>\n    <tr>\n      <th>9557</th>\n      <td>0.382463</td>\n      <td>-0.031619</td>\n      <td>-0.270228</td>\n      <td>-1.115831</td>\n      <td>-0.226605</td>\n    </tr>\n    <tr>\n      <th>9558</th>\n      <td>-0.537007</td>\n      <td>2.157878</td>\n      <td>1.504359</td>\n      <td>-0.691282</td>\n      <td>0.775788</td>\n    </tr>\n    <tr>\n      <th>9559</th>\n      <td>-0.996742</td>\n      <td>1.063130</td>\n      <td>0.617065</td>\n      <td>0.021961</td>\n      <td>1.377224</td>\n    </tr>\n    <tr>\n      <th>9560</th>\n      <td>0.612331</td>\n      <td>0.242068</td>\n      <td>0.084689</td>\n      <td>1.295608</td>\n      <td>1.176746</td>\n    </tr>\n  </tbody>\n</table>\n<p>9561 rows × 5 columns</p>\n</div>",
      "text/plain": "           age  player_height  player_weight       pts       reb\n0    -0.996742      -0.578993      -1.547931  1.414481  0.134256\n1    -1.226609      -1.947428      -2.044815  2.620200  0.214448\n2    -0.537007      -0.305306      -1.157521  1.550337  0.214448\n3    -0.766874      -0.578993      -1.547931  1.550337  0.455022\n4    -0.996742      -1.947428      -2.044815  2.365471  0.054065\n...        ...            ...            ...       ...       ...\n9556 -1.456477      -0.578993      -0.802604  0.497455 -0.146414\n9557  0.382463      -0.031619      -0.270228 -1.115831 -0.226605\n9558 -0.537007       2.157878       1.504359 -0.691282  0.775788\n9559 -0.996742       1.063130       0.617065  0.021961  1.377224\n9560  0.612331       0.242068       0.084689  1.295608  1.176746\n\n[9561 rows x 5 columns]"
     },
     "execution_count": 175,
     "metadata": {},
     "output_type": "execute_result"
    }
   ],
   "source": [
    "scaler = StandardScaler()\n",
    "scaler.fit(dfComplete[['age', 'player_height', 'player_weight', 'pts', 'reb']])\n",
    "z = scaler.transform(dfComplete[['age', 'player_height', 'player_weight', 'pts', 'reb']])\n",
    "\n",
    "dfScale = pd.DataFrame(z, columns = ['age', 'player_height', 'player_weight', 'pts', 'reb'])\n",
    "dfScale"
   ]
  },
  {
   "cell_type": "code",
   "execution_count": 176,
   "metadata": {},
   "outputs": [],
   "source": [
    "xtr, xts, ytr, yts = train_test_split(\n",
    "    dfScale[['age', 'player_height', 'player_weight', 'pts', 'reb']], dfComplete['Label'],\n",
    "    test_size = .18\n",
    ")"
   ]
  },
  {
   "cell_type": "code",
   "execution_count": 177,
   "metadata": {},
   "outputs": [
    {
     "name": "stdout",
     "output_type": "stream",
     "text": "Accuracy KN : 0.9947704822777454\nAccuracy DT : 1.0\nAccuracy LR : 0.9814061592097618\n"
    }
   ],
   "source": [
    "modelKN = KNeighborsClassifier()\n",
    "modelDT = DecisionTreeClassifier()\n",
    "modelLR = LogisticRegression()\n",
    "\n",
    "modelKN.fit(xtr, ytr)\n",
    "modelDT.fit(xtr, ytr)\n",
    "modelLR.fit(xtr, ytr)\n",
    "\n",
    "predictionKN = modelKN.predict(xts)\n",
    "predictionDT = modelDT.predict(xts)\n",
    "predictionLR = modelLR.predict(xts)\n",
    "\n",
    "print('Accuracy KN :', metrics.accuracy_score(predictionKN, yts))\n",
    "print('Accuracy DT :', metrics.accuracy_score(predictionDT, yts))\n",
    "print('Accuracy LR :', metrics.accuracy_score(predictionLR, yts))"
   ]
  },
  {
   "cell_type": "code",
   "execution_count": 178,
   "metadata": {},
   "outputs": [
    {
     "name": "stdout",
     "output_type": "stream",
     "text": "Cross Validation Score KN : [0.99234694 0.9942602  0.99234694 0.98915816 0.98852041]\nCross Validation Score DT : [1.         1.         1.         1.         0.99936224]\nCross Validation Score LR : [0.98341837 0.98469388 0.98341837 0.98086735 0.98022959]\n"
    }
   ],
   "source": [
    "from sklearn.model_selection import cross_val_score\n",
    "print('Cross Validation Score KN :', cross_val_score(modelKN, xtr, ytr))\n",
    "print('Cross Validation Score DT :', cross_val_score(modelDT, xtr, ytr))\n",
    "print('Cross Validation Score LR :', cross_val_score(modelLR, xtr, ytr))"
   ]
  },
  {
   "cell_type": "code",
   "execution_count": 179,
   "metadata": {},
   "outputs": [
    {
     "name": "stdout",
     "output_type": "stream",
     "text": "Mean Cross Val KN : 0.991326530612245\nMean Cross Val DT : 0.9998724489795918\nMean Cross Val LR : 0.9825255102040817\n"
    }
   ],
   "source": [
    "print('Mean Cross Val KN :', np.mean(cross_val_score(modelKN, xtr, ytr)))\n",
    "print('Mean Cross Val DT :', np.mean(cross_val_score(modelDT, xtr, ytr)))\n",
    "print('Mean Cross Val LR :', np.mean(cross_val_score(modelLR, xtr, ytr)))"
   ]
  },
  {
   "cell_type": "code",
   "execution_count": 180,
   "metadata": {},
   "outputs": [],
   "source": [
    "from sklearn.model_selection import GridSearchCV"
   ]
  },
  {
   "cell_type": "code",
   "execution_count": 181,
   "metadata": {},
   "outputs": [
    {
     "data": {
      "text/plain": "{'algorithm': 'auto',\n 'leaf_size': 30,\n 'metric': 'minkowski',\n 'metric_params': None,\n 'n_jobs': None,\n 'n_neighbors': 5,\n 'p': 2,\n 'weights': 'uniform'}"
     },
     "execution_count": 181,
     "metadata": {},
     "output_type": "execute_result"
    }
   ],
   "source": [
    "modelKN.get_params()"
   ]
  },
  {
   "cell_type": "code",
   "execution_count": 182,
   "metadata": {},
   "outputs": [
    {
     "data": {
      "text/plain": "{'ccp_alpha': 0.0,\n 'class_weight': None,\n 'criterion': 'gini',\n 'max_depth': None,\n 'max_features': None,\n 'max_leaf_nodes': None,\n 'min_impurity_decrease': 0.0,\n 'min_impurity_split': None,\n 'min_samples_leaf': 1,\n 'min_samples_split': 2,\n 'min_weight_fraction_leaf': 0.0,\n 'presort': 'deprecated',\n 'random_state': None,\n 'splitter': 'best'}"
     },
     "execution_count": 182,
     "metadata": {},
     "output_type": "execute_result"
    }
   ],
   "source": [
    "modelDT.get_params()"
   ]
  },
  {
   "cell_type": "code",
   "execution_count": 183,
   "metadata": {},
   "outputs": [
    {
     "data": {
      "text/plain": "{'C': 1.0,\n 'class_weight': None,\n 'dual': False,\n 'fit_intercept': True,\n 'intercept_scaling': 1,\n 'l1_ratio': None,\n 'max_iter': 100,\n 'multi_class': 'auto',\n 'n_jobs': None,\n 'penalty': 'l2',\n 'random_state': None,\n 'solver': 'lbfgs',\n 'tol': 0.0001,\n 'verbose': 0,\n 'warm_start': False}"
     },
     "execution_count": 183,
     "metadata": {},
     "output_type": "execute_result"
    }
   ],
   "source": [
    "modelLR.get_params()"
   ]
  },
  {
   "cell_type": "code",
   "execution_count": 184,
   "metadata": {},
   "outputs": [
    {
     "name": "stdout",
     "output_type": "stream",
     "text": "Best Hyper Parameters KN : {'algorithm': 'auto', 'leaf_size': 1, 'n_jobs': -1, 'n_neighbors': 8, 'weights': 'distance'}\nBest Hyper Parameters DT : {'max_features': 'auto', 'min_samples_leaf': 1, 'min_samples_split': 3, 'random_state': 123}\nBest Hyper Parameters LR : {'max_iter': 10, 'penalty': 'none', 'solver': 'newton-cg'}\nC:\\Users\\rdyhr\\Anaconda3\\lib\\site-packages\\sklearn\\utils\\optimize.py:212: ConvergenceWarning: newton-cg failed to converge. Increase the number of iterations.\n  \"number of iterations.\", ConvergenceWarning)\n"
    }
   ],
   "source": [
    "paramsKN = {'n_neighbors' : [5,6,7,8,9,10],\n",
    "          'leaf_size' : [1,2,3,5],\n",
    "          'weights' : ['uniform', 'distance'],\n",
    "          'algorithm' : ['auto', 'ball_tree','kd_tree','brute'],\n",
    "          'n_jobs' : [-1]}\n",
    "\n",
    "paramsDT = {'max_features' : ['auto', 'sqrt', 'log2'],\n",
    "          'min_samples_split' : [2,3,4,5,6,7,8,9,10,11,12,13,14,15], \n",
    "          'min_samples_leaf' : [1,2,3,4,5,6,7,8,9,10,11],\n",
    "          'random_state' : [123]}\n",
    "\n",
    "paramsLR = {'penalty' : ['l1', 'l2', 'elasticnet', 'none'],\n",
    "          'solver' : ['newton-cg', 'lbfgs', 'liblinear', 'sag', 'saga'], \n",
    "          'max_iter' : [1, 10, 100, 1000, 10000]}\n",
    "\n",
    "\n",
    "modelKNgs = GridSearchCV(modelKN, param_grid = paramsKN, n_jobs = 1)\n",
    "modelDTgs = GridSearchCV(modelDT, param_grid = paramsDT, n_jobs=-1)\n",
    "modelLRgs = GridSearchCV(modelLR, param_grid = paramsLR, n_jobs=-1)\n",
    "\n",
    "modelKNgs.fit(xtr, ytr)\n",
    "modelDTgs.fit(xtr, ytr)\n",
    "modelLRgs.fit(xtr, ytr)\n",
    "\n",
    "print('Best Hyper Parameters KN :', modelKNgs.best_params_)\n",
    "print('Best Hyper Parameters DT :', modelDTgs.best_params_)\n",
    "print('Best Hyper Parameters LR :', modelLRgs.best_params_)"
   ]
  },
  {
   "cell_type": "code",
   "execution_count": 185,
   "metadata": {},
   "outputs": [
    {
     "name": "stdout",
     "output_type": "stream",
     "text": "Accuracy KN : 0.9959325973271353\nAccuracy DT : 0.9982568274259151\nAccuracy LR : 0.9808251016850669\n"
    }
   ],
   "source": [
    "predictionKNgs = modelKNgs.predict(xts)\n",
    "predictionDTgs = modelDTgs.predict(xts)\n",
    "predictionLRgs = modelLRgs.predict(xts)\n",
    "\n",
    "print('Accuracy KN :', metrics.accuracy_score(predictionKNgs, yts))\n",
    "print('Accuracy DT :', metrics.accuracy_score(predictionDTgs, yts))\n",
    "print('Accuracy LR :', metrics.accuracy_score(predictionLRgs, yts))"
   ]
  },
  {
   "cell_type": "code",
   "execution_count": 186,
   "metadata": {},
   "outputs": [
    {
     "name": "stderr",
     "output_type": "stream",
     "text": "C:\\Users\\rdyhr\\Anaconda3\\lib\\site-packages\\sklearn\\linear_model\\_sag.py:330: ConvergenceWarning: The max_iter was reached which means the coef_ did not converge\n  \"the coef_ did not converge\", ConvergenceWarning)\nAccuracy Best KN : 0.9936083672283557\nAccuracy Best DT : 0.9982568274259151\nAccuracy best LR : 0.9814061592097618\n"
    }
   ],
   "source": [
    "bestKN = KNeighborsClassifier(\n",
    "    algorithm = 'auto', leaf_size = 1, n_jobs = -1, n_neighbors = 9, weights = 'uniform')\n",
    "\n",
    "bestDT = DecisionTreeClassifier(\n",
    "    max_features = 'auto', min_samples_leaf = 1, min_samples_split = 5, random_state = 123)\n",
    "\n",
    "bestLR = LogisticRegression(max_iter = 10, penalty = 'none', solver = 'sag')\n",
    "\n",
    "bestKN.fit(xtr, ytr)\n",
    "bestDT.fit(xtr, ytr)\n",
    "bestLR.fit(xtr, ytr)\n",
    "\n",
    "bestPredictKN = bestKN.predict(xts)\n",
    "bestPredictDT = bestDT.predict(xts)\n",
    "bestPredictLR = bestLR.predict(xts)\n",
    "\n",
    "print('Accuracy Best KN :', metrics.accuracy_score(bestPredictKN, yts))\n",
    "print('Accuracy Best DT :', metrics.accuracy_score(bestPredictDT, yts))\n",
    "print('Accuracy best LR :', metrics.accuracy_score(bestPredictLR, yts))"
   ]
  },
  {
   "cell_type": "code",
   "execution_count": 187,
   "metadata": {},
   "outputs": [],
   "source": [
    "from sklearn.metrics import confusion_matrix, balanced_accuracy_score, precision_score, recall_score, f1_score, roc_auc_score"
   ]
  },
  {
   "cell_type": "code",
   "execution_count": 188,
   "metadata": {},
   "outputs": [
    {
     "data": {
      "text/html": "<div>\n<style scoped>\n    .dataframe tbody tr th:only-of-type {\n        vertical-align: middle;\n    }\n\n    .dataframe tbody tr th {\n        vertical-align: top;\n    }\n\n    .dataframe thead th {\n        text-align: right;\n    }\n</style>\n<table border=\"1\" class=\"dataframe\">\n  <thead>\n    <tr style=\"text-align: right;\">\n      <th></th>\n      <th>player_name</th>\n      <th>team_abbreviation</th>\n      <th>country</th>\n      <th>age</th>\n      <th>player_height</th>\n      <th>player_weight</th>\n      <th>pts</th>\n      <th>reb</th>\n      <th>Label</th>\n      <th>ypKN</th>\n      <th>ypDT</th>\n      <th>ypLR</th>\n    </tr>\n  </thead>\n  <tbody>\n    <tr>\n      <th>0</th>\n      <td>Kerry Kittles</td>\n      <td>NJN</td>\n      <td>USA</td>\n      <td>23.0</td>\n      <td>195.58</td>\n      <td>81.192968</td>\n      <td>16.4</td>\n      <td>3.9</td>\n      <td>1</td>\n      <td>0</td>\n      <td>0</td>\n      <td>0</td>\n    </tr>\n    <tr>\n      <th>1</th>\n      <td>Allen Iverson</td>\n      <td>PHI</td>\n      <td>USA</td>\n      <td>22.0</td>\n      <td>182.88</td>\n      <td>74.842680</td>\n      <td>23.5</td>\n      <td>4.1</td>\n      <td>1</td>\n      <td>0</td>\n      <td>0</td>\n      <td>0</td>\n    </tr>\n    <tr>\n      <th>2</th>\n      <td>Eddie Jones</td>\n      <td>LAL</td>\n      <td>USA</td>\n      <td>25.0</td>\n      <td>198.12</td>\n      <td>86.182480</td>\n      <td>17.2</td>\n      <td>4.1</td>\n      <td>1</td>\n      <td>0</td>\n      <td>0</td>\n      <td>0</td>\n    </tr>\n    <tr>\n      <th>3</th>\n      <td>Kerry Kittles</td>\n      <td>NJN</td>\n      <td>USA</td>\n      <td>24.0</td>\n      <td>195.58</td>\n      <td>81.192968</td>\n      <td>17.2</td>\n      <td>4.7</td>\n      <td>1</td>\n      <td>0</td>\n      <td>0</td>\n      <td>0</td>\n    </tr>\n    <tr>\n      <th>4</th>\n      <td>Allen Iverson</td>\n      <td>PHI</td>\n      <td>USA</td>\n      <td>23.0</td>\n      <td>182.88</td>\n      <td>74.842680</td>\n      <td>22.0</td>\n      <td>3.7</td>\n      <td>1</td>\n      <td>0</td>\n      <td>0</td>\n      <td>0</td>\n    </tr>\n  </tbody>\n</table>\n</div>",
      "text/plain": "     player_name team_abbreviation country   age  player_height  \\\n0  Kerry Kittles               NJN     USA  23.0         195.58   \n1  Allen Iverson               PHI     USA  22.0         182.88   \n2    Eddie Jones               LAL     USA  25.0         198.12   \n3  Kerry Kittles               NJN     USA  24.0         195.58   \n4  Allen Iverson               PHI     USA  23.0         182.88   \n\n   player_weight   pts  reb  Label  ypKN  ypDT  ypLR  \n0      81.192968  16.4  3.9      1     0     0     0  \n1      74.842680  23.5  4.1      1     0     0     0  \n2      86.182480  17.2  4.1      1     0     0     0  \n3      81.192968  17.2  4.7      1     0     0     0  \n4      74.842680  22.0  3.7      1     0     0     0  "
     },
     "execution_count": 188,
     "metadata": {},
     "output_type": "execute_result"
    }
   ],
   "source": [
    "ypKN = bestKN.predict(dfComplete[['age', 'player_height', 'player_weight', 'pts', 'reb']]).tolist()\n",
    "ypDT = bestDT.predict(dfComplete[['age', 'player_height', 'player_weight', 'pts', 'reb']]).tolist()\n",
    "ypLR = bestLR.predict(dfComplete[['age', 'player_height', 'player_weight', 'pts', 'reb']]).tolist()\n",
    "\n",
    "dfComplete['ypKN'] = ypKN\n",
    "dfComplete['ypDT'] = ypDT\n",
    "dfComplete['ypLR'] = ypLR\n",
    "dfComplete.head()"
   ]
  },
  {
   "cell_type": "code",
   "execution_count": 189,
   "metadata": {},
   "outputs": [
    {
     "name": "stdout",
     "output_type": "stream",
     "text": "Confusion Matrix KN :\n [[9370    0]\n [ 191    0]]\nConfusion Matrix DT :\n [[9370    0]\n [ 191    0]]\nConfusion Matrix LR :\n [[9370    0]\n [ 191    0]]\n"
    }
   ],
   "source": [
    "print('Confusion Matrix KN :\\n', confusion_matrix(dfComplete['Label'], dfComplete['ypKN']))\n",
    "print('Confusion Matrix DT :\\n', confusion_matrix(dfComplete['Label'], dfComplete['ypDT']))\n",
    "print('Confusion Matrix LR :\\n', confusion_matrix(dfComplete['Label'], dfComplete['ypLR']))"
   ]
  },
  {
   "cell_type": "code",
   "execution_count": 190,
   "metadata": {},
   "outputs": [
    {
     "name": "stdout",
     "output_type": "stream",
     "text": "bAcc KN = 0.5\nbAcc DT = 0.5\nbAcc LR = 0.5\n"
    }
   ],
   "source": [
    "print('bAcc KN =', balanced_accuracy_score(dfComplete['Label'], dfComplete['ypKN']))\n",
    "print('bAcc DT =', balanced_accuracy_score(dfComplete['Label'], dfComplete['ypDT']))\n",
    "print('bAcc LR =', balanced_accuracy_score(dfComplete['Label'], dfComplete['ypLR']))"
   ]
  },
  {
   "cell_type": "code",
   "execution_count": 196,
   "metadata": {},
   "outputs": [
    {
     "name": "stdout",
     "output_type": "stream",
     "text": "Precision(+) KN = 0.0\nPrecision(+) DT = 0.0\nPrecision(+) LR = 0.0\nPrecision(-) KN = 0.9800230101453823\nPrecision(-) DT = 0.9800230101453823\nPrecision(-) LR = 0.9800230101453823\nC:\\Users\\rdyhr\\Anaconda3\\lib\\site-packages\\sklearn\\metrics\\_classification.py:1272: UndefinedMetricWarning: Precision is ill-defined and being set to 0.0 due to no predicted samples. Use `zero_division` parameter to control this behavior.\n  _warn_prf(average, modifier, msg_start, len(result))\n"
    }
   ],
   "source": [
    "print('Precision(+) KN =', precision_score(dfComplete['Label'], dfComplete['ypKN'], pos_label = 1))\n",
    "print('Precision(+) DT =', precision_score(dfComplete['Label'], dfComplete['ypDT'], pos_label = 1))\n",
    "print('Precision(+) LR =', precision_score(dfComplete['Label'], dfComplete['ypLR'], pos_label = 1))\n",
    "\n",
    "print('Precision(-) KN =', precision_score(dfComplete['Label'], dfComplete['ypKN'], pos_label = 0))\n",
    "print('Precision(-) DT =', precision_score(dfComplete['Label'], dfComplete['ypDT'], pos_label = 0))\n",
    "print('Precision(-) LR =', precision_score(dfComplete['Label'], dfComplete['ypLR'], pos_label = 0))"
   ]
  },
  {
   "cell_type": "code",
   "execution_count": 197,
   "metadata": {},
   "outputs": [
    {
     "name": "stdout",
     "output_type": "stream",
     "text": "Recall(+) KN = 0.0\nRecall(+) DT = 0.0\nRecall(+) LR = 0.0\nRecall(-) KN = 1.0\nRecall(-) DT = 1.0\nRecall(-) LR = 1.0\n"
    }
   ],
   "source": [
    "print('Recall(+) KN =', recall_score(dfComplete['Label'], dfComplete['ypKN'], pos_label = 1))\n",
    "print('Recall(+) DT =', recall_score(dfComplete['Label'], dfComplete['ypDT'], pos_label = 1))\n",
    "print('Recall(+) LR =', recall_score(dfComplete['Label'], dfComplete['ypLR'], pos_label = 1))\n",
    "\n",
    "print('Recall(-) KN =', recall_score(dfComplete['Label'], dfComplete['ypKN'], pos_label = 0))\n",
    "print('Recall(-) DT =', recall_score(dfComplete['Label'], dfComplete['ypDT'], pos_label = 0))\n",
    "print('Recall(-) LR =', recall_score(dfComplete['Label'], dfComplete['ypLR'], pos_label = 0))"
   ]
  },
  {
   "cell_type": "code",
   "execution_count": 198,
   "metadata": {},
   "outputs": [
    {
     "name": "stdout",
     "output_type": "stream",
     "text": "F1 Score(+) KN = 0.0\nF1 Score(+) DT = 0.0\nF1 Score(+) LR = 0.0\nF1 Score(-) KN = 0.9899107284348423\nF1 Score(-) DT = 0.9899107284348423\nF1 Score(-) LR = 0.9899107284348423\n"
    }
   ],
   "source": [
    "print('F1 Score(+) KN =', f1_score(dfComplete['Label'], dfComplete['ypKN'], pos_label = 1))\n",
    "print('F1 Score(+) DT =', f1_score(dfComplete['Label'], dfComplete['ypDT'], pos_label = 1))\n",
    "print('F1 Score(+) LR =', f1_score(dfComplete['Label'], dfComplete['ypLR'], pos_label = 1))\n",
    "\n",
    "print('F1 Score(-) KN =', f1_score(dfComplete['Label'], dfComplete['ypKN'], pos_label = 0))\n",
    "print('F1 Score(-) DT =', f1_score(dfComplete['Label'], dfComplete['ypDT'], pos_label = 0))\n",
    "print('F1 Score(-) LR =', f1_score(dfComplete['Label'], dfComplete['ypLR'], pos_label = 0))"
   ]
  },
  {
   "cell_type": "code",
   "execution_count": 199,
   "metadata": {},
   "outputs": [
    {
     "name": "stdout",
     "output_type": "stream",
     "text": "ROC AUC Score KN = 0.5\nROC AUC Score DT = 0.5\nROC AUC Score LR = 0.5\n"
    }
   ],
   "source": [
    "print('ROC AUC Score KN =', roc_auc_score(dfComplete['Label'], dfComplete['ypKN']))\n",
    "print('ROC AUC Score DT =', roc_auc_score(dfComplete['Label'], dfComplete['ypDT']))\n",
    "print('ROC AUC Score LR =', roc_auc_score(dfComplete['Label'], dfComplete['ypLR']))"
   ]
  },
  {
   "cell_type": "code",
   "execution_count": 200,
   "metadata": {},
   "outputs": [
    {
     "name": "stdout",
     "output_type": "stream",
     "text": "Name                           Club    Country Age  \\\n0  Andakara Prastawa Dyaksa             Pelita Jaya Bakrie  Indonesia  24   \n1         Reggie Mononimbar             Pelita Jaya Bakrie  Indonesia  21   \n2          Hardianus Lakudu  Satria Muda Pertamina Jakarta  Indonesia  23   \n3       Kevin Yonas Sitorus  Satria Muda Pertamina Jakarta  Indonesia  26   \n4        Arki Dikania Wisnu  Satria Muda Pertamina Jakarta  Indonesia  20   \n5     Laurentius Steven Oei  Satria Muda Pertamina Jakarta  Indonesia  21   \n6                  Mei Joni                         Stapac  Indonesia  25   \n7   Vincent Rivaldi Kosasih                         Stapac  Indonesia  23   \n8         Hardian Wicaksono        Pacific Caesar Surabaya  Indonesia  21   \n9            Brandon Jawato                Louvre Surabaya  Indonesia  24   \n\n  Height Weight Avg_Points Avg_Rebounds  Label  \n0    190     90          7            6      0  \n1    185     86          6            3      0  \n2    178     83         10            3      0  \n3    185     75         11            4      0  \n4    183     80          5            2      0  \n5    191     85          4           10      0  \n6    188     90          7            5      0  \n7    179     87          1            2      0  \n8    177     80          9            8      0  \n9    182     85          6            5      0  \n"
    }
   ],
   "source": [
    "dfSoal['Label'] = bestDT.predict(dfSoal[['Age', 'Height', 'Weight', 'Avg_Points', 'Avg_Rebounds']])\n",
    "print(dfSoal)"
   ]
  },
  {
   "cell_type": "code",
   "execution_count": null,
   "metadata": {},
   "outputs": [],
   "source": []
  }
 ]
}